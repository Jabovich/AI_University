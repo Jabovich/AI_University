{
 "cells": [
  {
   "cell_type": "markdown",
   "metadata": {
    "id": "yjqO1dxNBapX"
   },
   "source": [
    "# **Практическое занятие по Pandas**"
   ]
  },
  {
   "cell_type": "code",
   "execution_count": 2,
   "metadata": {
    "ExecuteTime": {
     "end_time": "2020-04-23T10:16:05.965275Z",
     "start_time": "2020-04-23T10:16:05.312704Z"
    },
    "id": "jyo33GJhBTzM"
   },
   "outputs": [],
   "source": [
    "import pandas as pd\n",
    "import numpy as np"
   ]
  },
  {
   "cell_type": "markdown",
   "metadata": {
    "id": "n9_qKQWBBw_6"
   },
   "source": [
    "#### **Задание 1.**\n",
    "\n",
    "1. Создайте Series из последовательности 15 значений, равномерно разбивающих отрезок [0, 20] (воспользуйтесь функцией linspace)\n",
    "2. Определите отношение элементов полученной серии к их предыдущим элементам. \n",
    "3. В результате необходимо получить среднее полученного вектора, оставив в нём только те значения, которые не более чем 1.5. \n",
    "\n",
    "\n",
    "\n",
    "##### Пояснения:\n",
    "2. Если было бы необходимо найти последовательность из 3-х значений,  \n",
    "равномерно разбивающих отрезок [0,1], то это были бы значения [0, 0.5, 1]. \n",
    "\n",
    "3. Если был бы дан список элементов a = [1,2,3,12], отношения элементов к предыдущим будут равны [NaN, 2, 1.5, 4]. А на последнем этапе в таком примере останется только [1.5] и среднее значение будет также 1.5."
   ]
  },
  {
   "cell_type": "code",
   "execution_count": 7,
   "metadata": {
    "ExecuteTime": {
     "end_time": "2020-04-23T10:13:26.017568Z",
     "start_time": "2020-04-23T10:13:26.014793Z"
    },
    "id": "z7VQx9xBBTzT"
   },
   "outputs": [
    {
     "data": {
      "text/plain": [
       "0    0.000\n",
       "1    0.125\n",
       "2    0.250\n",
       "3    0.375\n",
       "4    0.500\n",
       "5    0.625\n",
       "6    0.750\n",
       "7    0.875\n",
       "8    1.000\n",
       "dtype: float64"
      ]
     },
     "execution_count": 7,
     "metadata": {},
     "output_type": "execute_result"
    }
   ],
   "source": [
    "#1\n",
    "s1 = pd.Series(np.linspace(0, 1, 9))\n",
    "s1"
   ]
  },
  {
   "cell_type": "code",
   "execution_count": 20,
   "metadata": {
    "ExecuteTime": {
     "end_time": "2020-04-23T10:13:26.017568Z",
     "start_time": "2020-04-23T10:13:26.014793Z"
    },
    "id": "z7VQx9xBBTzT"
   },
   "outputs": [
    {
     "data": {
      "text/plain": [
       "0         NaN\n",
       "1         inf\n",
       "2    2.000000\n",
       "3    1.500000\n",
       "4    1.333333\n",
       "5    1.250000\n",
       "6    1.200000\n",
       "7    1.166667\n",
       "8    1.142857\n",
       "dtype: float64"
      ]
     },
     "execution_count": 20,
     "metadata": {},
     "output_type": "execute_result"
    }
   ],
   "source": [
    "#2\n",
    "s2 = s1.divide(s1.shift(1))\n",
    "s2"
   ]
  },
  {
   "cell_type": "code",
   "execution_count": 24,
   "metadata": {
    "ExecuteTime": {
     "end_time": "2020-04-23T10:13:26.017568Z",
     "start_time": "2020-04-23T10:13:26.014793Z"
    },
    "id": "z7VQx9xBBTzT"
   },
   "outputs": [
    {
     "data": {
      "text/plain": [
       "1.2654761904761906"
      ]
     },
     "execution_count": 24,
     "metadata": {},
     "output_type": "execute_result"
    }
   ],
   "source": [
    "#3\n",
    "s3 = s2[s2 <= 1.5].mean()\n",
    "s3"
   ]
  },
  {
   "cell_type": "markdown",
   "metadata": {
    "id": "9MszFh_kBTzW"
   },
   "source": [
    "#### **Задание 2.** \n",
    "\n",
    "По клиенту получены зашумленные данные (объект s типа Series) по его транзакциям. \n",
    "\n",
    "Для заданного ниже объекта s проделайте следующее:\n",
    "1. Создайте новый Series, значения которого совпадают со значениями s, а индексы - целочисленные значения от 2 до 12, не включая 12. \n",
    "2. Выберите из s элементы с индексами 3 и 5, после чего просуммируйте их, сохранив результат. \n",
    "3. Выберите из s только целочисленные элементы и вычислите их дисперсию. \n",
    "\n",
    "Все полученные результаты округлите до 2-х знаков после запятой.\n",
    "\n",
    "##### Пояснения:\n",
    "3. Целочисленные значения - значения, имеющие тип int.\n",
    "- Дисперсия рассчитывается с помощью функции из библиотеки numpy: np.var( , ddof=0) или встроенной в python функции: .var(ddof=1)"
   ]
  },
  {
   "cell_type": "code",
   "execution_count": 41,
   "metadata": {
    "ExecuteTime": {
     "end_time": "2020-04-23T10:17:18.795695Z",
     "start_time": "2020-04-23T10:17:18.791449Z"
    },
    "id": "9arRckayBTzX"
   },
   "outputs": [
    {
     "data": {
      "text/plain": [
       "6         1\n",
       "8         2\n",
       "10      3.1\n",
       "12      hi!\n",
       "14        5\n",
       "16     -512\n",
       "18    12.42\n",
       "20     sber\n",
       "22     10.1\n",
       "24       98\n",
       "dtype: object"
      ]
     },
     "execution_count": 41,
     "metadata": {},
     "output_type": "execute_result"
    }
   ],
   "source": [
    "s = pd.Series(data=['1', 2, 3.1, 'hi!', 5, -512, 12.42, 'sber', 10.10, 98], index=range(6, 26, 2))\n",
    "s"
   ]
  },
  {
   "cell_type": "code",
   "execution_count": 42,
   "metadata": {
    "ExecuteTime": {
     "end_time": "2020-04-23T10:17:18.795695Z",
     "start_time": "2020-04-23T10:17:18.791449Z"
    },
    "id": "9arRckayBTzX"
   },
   "outputs": [
    {
     "data": {
      "text/plain": [
       "2         1\n",
       "3         2\n",
       "4       3.1\n",
       "5       hi!\n",
       "6         5\n",
       "7      -512\n",
       "8     12.42\n",
       "9      sber\n",
       "10     10.1\n",
       "11       98\n",
       "dtype: object"
      ]
     },
     "execution_count": 42,
     "metadata": {},
     "output_type": "execute_result"
    }
   ],
   "source": [
    "#1\n",
    "s1 = pd.Series(data=['1', 2, 3.1, 'hi!', 5, -512, 12.42, 'sber', 10.10, 98], index=range(2, 12))\n",
    "s1"
   ]
  },
  {
   "cell_type": "code",
   "execution_count": 57,
   "metadata": {
    "ExecuteTime": {
     "end_time": "2020-04-23T10:17:18.795695Z",
     "start_time": "2020-04-23T10:17:18.791449Z"
    },
    "id": "9arRckayBTzX"
   },
   "outputs": [
    {
     "data": {
      "text/plain": [
       "76788.25"
      ]
     },
     "execution_count": 57,
     "metadata": {},
     "output_type": "execute_result"
    }
   ],
   "source": [
    "#2\n",
    "arr = []\n",
    "for i in range(2,12):\n",
    "    if type(s1[i]) == int:\n",
    "        arr.append(s1[i])\n",
    "s3 = pd.Series(arr, index = range(0, len(arr)))\n",
    "s3.var()"
   ]
  },
  {
   "cell_type": "markdown",
   "metadata": {
    "id": "2vNssjS5BTzY"
   },
   "source": [
    "#### **Задание 3.** \n",
    "1. Сгенерируйте Series из 100 значений нормально распределённой СВ (np.random.normal с дефолтными параметрами - нулевым средним и единичной дисперсией).\n",
    "2. Возведите каждое значение серии в 3 степень, а значения индекса увеличьте в 3 раза. \n",
    "3. Выведите сумму элементов, строго меньших 2.6, имеющих нечётные значения индекса. \n",
    "4. Выведите количество значений серии меньше нуля.\n",
    "\n",
    "#### Пояснения:\n",
    " - Следует внимательнее использовать [ ] для выбора данных по нескольким условиям: либо выбирать данные последовательно, либо сразу по нескольким условиям, но через оператор &. Отличие оператора and от оператора &: and - выводит последнее проверенное значение, & - выводит пересечение значений.\n",
    "Пример: s[ _  &  _ ].sum() "
   ]
  },
  {
   "cell_type": "code",
   "execution_count": 15,
   "metadata": {
    "ExecuteTime": {
     "end_time": "2020-04-23T10:18:35.713300Z",
     "start_time": "2020-04-23T10:18:35.710616Z"
    },
    "id": "bCOD7517BTza"
   },
   "outputs": [],
   "source": [
    "np.random.seed(242)\n",
    "### Выполнение задания\n"
   ]
  },
  {
   "cell_type": "code",
   "execution_count": 16,
   "metadata": {
    "ExecuteTime": {
     "end_time": "2020-04-23T10:18:35.713300Z",
     "start_time": "2020-04-23T10:18:35.710616Z"
    },
    "id": "bCOD7517BTza"
   },
   "outputs": [
    {
     "data": {
      "text/plain": [
       "0    -0.357519\n",
       "1     0.148448\n",
       "2     0.993531\n",
       "3     1.838968\n",
       "4    -0.744026\n",
       "        ...   \n",
       "95    0.950296\n",
       "96    0.737315\n",
       "97   -0.739985\n",
       "98   -1.376260\n",
       "99    0.052260\n",
       "Length: 100, dtype: float64"
      ]
     },
     "execution_count": 16,
     "metadata": {},
     "output_type": "execute_result"
    }
   ],
   "source": [
    "#1\n",
    "s1 = pd.Series(np.random.normal(size=100))\n",
    "s1"
   ]
  },
  {
   "cell_type": "code",
   "execution_count": 17,
   "metadata": {
    "ExecuteTime": {
     "end_time": "2020-04-23T10:18:35.713300Z",
     "start_time": "2020-04-23T10:18:35.710616Z"
    },
    "id": "bCOD7517BTza"
   },
   "outputs": [
    {
     "data": {
      "text/plain": [
       "0      2.184877\n",
       "3      0.089285\n",
       "6     -5.771070\n",
       "9      0.089886\n",
       "12     9.059219\n",
       "         ...   \n",
       "285   -1.259763\n",
       "288   -0.003739\n",
       "291    0.447243\n",
       "294   -0.076015\n",
       "297    0.036901\n",
       "Length: 100, dtype: float64"
      ]
     },
     "execution_count": 17,
     "metadata": {},
     "output_type": "execute_result"
    }
   ],
   "source": [
    "#2\n",
    "s2 = pd.Series(np.random.normal(size=100) ** 3, index=[x * 3 for x in range(100)])\n",
    "s2"
   ]
  },
  {
   "cell_type": "code",
   "execution_count": 18,
   "metadata": {
    "ExecuteTime": {
     "end_time": "2020-04-23T10:18:35.713300Z",
     "start_time": "2020-04-23T10:18:35.710616Z"
    },
    "id": "bCOD7517BTza"
   },
   "outputs": [
    {
     "name": "stdout",
     "output_type": "stream",
     "text": [
      "-113.472682273571\n"
     ]
    }
   ],
   "source": [
    "#3\n",
    "s3 = s2\n",
    "print(s3[(x % 2 != 0 for x in s3.index) and (s3 < 2.6)].sum())"
   ]
  },
  {
   "cell_type": "code",
   "execution_count": 19,
   "metadata": {
    "ExecuteTime": {
     "end_time": "2020-04-23T10:18:35.713300Z",
     "start_time": "2020-04-23T10:18:35.710616Z"
    },
    "id": "bCOD7517BTza"
   },
   "outputs": [
    {
     "name": "stdout",
     "output_type": "stream",
     "text": [
      "48\n"
     ]
    }
   ],
   "source": [
    "#4\n",
    "s4 = s2\n",
    "print(s4[s4 < 0].count())"
   ]
  },
  {
   "cell_type": "markdown",
   "metadata": {
    "id": "hsqWkULTBTzd"
   },
   "source": [
    "#### **Задание 4.**\n",
    "1. В tr_types выберите произвольные 100 строк с помощью метода sample (указав при этом random_seed равный 242)\n",
    "2. В полученной на предыдущем этапе подвыборке найдите долю наблюдений (стобец tr_description), в которой содержится подстрока 'плата' (в любом регистре). (\\*)\n",
    "\n",
    "Выведите ответ в виде вещественного числа, округлённого до двух знаков после запятой, отделив дробную часть точкой в формате \"123.45\"\n",
    "\n",
    "##### Пояснения:\n",
    "(\\*) Строки \"ПлатА за аренду\", \"ПлатАза аренду\", \"ПЛАТА\" удовлетворяют условию, так как будучи переведёнными в нижний регистр содержат подстроку \"плата\"."
   ]
  },
  {
   "cell_type": "code",
   "execution_count": null,
   "metadata": {
    "ExecuteTime": {
     "end_time": "2020-04-23T10:19:45.872766Z",
     "start_time": "2020-04-23T10:19:45.870317Z"
    },
    "id": "C0_e0spIBTze",
    "scrolled": true
   },
   "outputs": [],
   "source": [
    "### Выполнение задания"
   ]
  },
  {
   "cell_type": "code",
   "execution_count": null,
   "metadata": {
    "ExecuteTime": {
     "end_time": "2020-04-23T10:19:45.872766Z",
     "start_time": "2020-04-23T10:19:45.870317Z"
    },
    "id": "C0_e0spIBTze",
    "scrolled": true
   },
   "outputs": [],
   "source": [
    "#1.\n",
    "np.random.seed(242)\n",
    "s1 = pd.read_csv(\"data/tr_types.csv\", sep=';')\n",
    "s1 = df.sample(100, random_state=242)\n",
    "print(df)"
   ]
  },
  {
   "cell_type": "code",
   "execution_count": null,
   "metadata": {
    "ExecuteTime": {
     "end_time": "2020-04-23T10:19:45.872766Z",
     "start_time": "2020-04-23T10:19:45.870317Z"
    },
    "id": "C0_e0spIBTze",
    "scrolled": true
   },
   "outputs": [],
   "source": [
    "#2.\n",
    "s2 = s1.loc[s1.tr_description.str.lower().str.contains('плата')].count()[0] / len(s1)\n",
    "s2\n",
    "print(f\"{s2:.2f}\")"
   ]
  },
  {
   "cell_type": "markdown",
   "metadata": {
    "id": "faLO-FhTBTzf"
   },
   "source": [
    "#### **Задание 5.** \n",
    "1. Для поля tr_type датафрейма transactions посчитайте частоту встречаемости всех типов транзакций tr_type в transactions.\n",
    "2. Из перечисленных вариантов выберите те, которые попали в топ-5 транзакций по частоте встречаемости.\n",
    "\n"
   ]
  },
  {
   "cell_type": "code",
   "execution_count": null,
   "metadata": {
    "ExecuteTime": {
     "end_time": "2020-04-23T10:20:31.273965Z",
     "start_time": "2020-04-23T10:20:31.271483Z"
    },
    "id": "ogd1oR1DBTzg"
   },
   "outputs": [],
   "source": [
    "### Выполнение задания"
   ]
  },
  {
   "cell_type": "code",
   "execution_count": 6,
   "metadata": {
    "ExecuteTime": {
     "end_time": "2020-04-23T10:20:31.273965Z",
     "start_time": "2020-04-23T10:20:31.271483Z"
    },
    "id": "ogd1oR1DBTzg"
   },
   "outputs": [
    {
     "data": {
      "text/plain": [
       "tr_type\n",
       "1000      1\n",
       "1010      1\n",
       "1030      1\n",
       "1100      1\n",
       "1110      1\n",
       "         ..\n",
       "8151      1\n",
       "8210      1\n",
       "8220      1\n",
       "8230      1\n",
       "999999    1\n",
       "Length: 155, dtype: int64"
      ]
     },
     "execution_count": 6,
     "metadata": {},
     "output_type": "execute_result"
    }
   ],
   "source": [
    "#1.\n",
    "df1 = pd.read_csv(\"data/tr_types.csv\", sep=';')\n",
    "df1\n",
    "groups = df1.groupby(['tr_type'])\n",
    "df_s = groups.size()\n",
    "df_s"
   ]
  },
  {
   "cell_type": "code",
   "execution_count": 7,
   "metadata": {
    "ExecuteTime": {
     "end_time": "2020-04-23T10:20:31.273965Z",
     "start_time": "2020-04-23T10:20:31.271483Z"
    },
    "id": "ogd1oR1DBTzg"
   },
   "outputs": [
    {
     "data": {
      "text/plain": [
       "1"
      ]
     },
     "execution_count": 7,
     "metadata": {},
     "output_type": "execute_result"
    }
   ],
   "source": [
    "#2.\n",
    "df_s.max()"
   ]
  },
  {
   "cell_type": "markdown",
   "metadata": {
    "id": "YeByvci9BTzh"
   },
   "source": [
    "#### **Задание 6.**\n",
    "1. В датафрейме transactions задайте столбец  customer_id в качестве индекса.\n",
    "2. Выделите клиента с максимальной суммой транзакции (то есть с максимальным приходом на карту). (\\*)\n",
    "\n",
    "##### Пояснения:\n",
    "(\\*) Если у клиента были транзакции [-10000, 10, 0, -10], то максимумом будет являться значение 10. <br>\n"
   ]
  },
  {
   "cell_type": "code",
   "execution_count": null,
   "metadata": {
    "ExecuteTime": {
     "end_time": "2020-04-23T10:20:53.265495Z",
     "start_time": "2020-04-23T10:20:53.263208Z"
    },
    "id": "fBsreOprBTzh",
    "scrolled": true
   },
   "outputs": [],
   "source": [
    "### Выполнение задания"
   ]
  },
  {
   "cell_type": "code",
   "execution_count": 5,
   "metadata": {
    "ExecuteTime": {
     "end_time": "2020-04-23T10:20:53.265495Z",
     "start_time": "2020-04-23T10:20:53.263208Z"
    },
    "id": "fBsreOprBTzh",
    "scrolled": true
   },
   "outputs": [
    {
     "data": {
      "text/html": [
       "<div>\n",
       "<style scoped>\n",
       "    .dataframe tbody tr th:only-of-type {\n",
       "        vertical-align: middle;\n",
       "    }\n",
       "\n",
       "    .dataframe tbody tr th {\n",
       "        vertical-align: top;\n",
       "    }\n",
       "\n",
       "    .dataframe thead th {\n",
       "        text-align: right;\n",
       "    }\n",
       "</style>\n",
       "<table border=\"1\" class=\"dataframe\">\n",
       "  <thead>\n",
       "    <tr style=\"text-align: right;\">\n",
       "      <th></th>\n",
       "      <th>customer_id</th>\n",
       "      <th>tr_datetime</th>\n",
       "      <th>mcc_code</th>\n",
       "      <th>tr_type</th>\n",
       "      <th>amount</th>\n",
       "      <th>term_id</th>\n",
       "    </tr>\n",
       "  </thead>\n",
       "  <tbody>\n",
       "    <tr>\n",
       "      <th>0</th>\n",
       "      <td>39026145</td>\n",
       "      <td>0 10:23:26</td>\n",
       "      <td>4814</td>\n",
       "      <td>1030</td>\n",
       "      <td>-2245.92</td>\n",
       "      <td>NaN</td>\n",
       "    </tr>\n",
       "    <tr>\n",
       "      <th>1</th>\n",
       "      <td>39026145</td>\n",
       "      <td>1 10:19:29</td>\n",
       "      <td>6011</td>\n",
       "      <td>7010</td>\n",
       "      <td>56147.89</td>\n",
       "      <td>NaN</td>\n",
       "    </tr>\n",
       "    <tr>\n",
       "      <th>2</th>\n",
       "      <td>39026145</td>\n",
       "      <td>1 10:20:56</td>\n",
       "      <td>4829</td>\n",
       "      <td>2330</td>\n",
       "      <td>-56147.89</td>\n",
       "      <td>NaN</td>\n",
       "    </tr>\n",
       "    <tr>\n",
       "      <th>3</th>\n",
       "      <td>39026145</td>\n",
       "      <td>1 10:39:54</td>\n",
       "      <td>5499</td>\n",
       "      <td>1010</td>\n",
       "      <td>-1392.47</td>\n",
       "      <td>NaN</td>\n",
       "    </tr>\n",
       "    <tr>\n",
       "      <th>4</th>\n",
       "      <td>39026145</td>\n",
       "      <td>2 15:33:42</td>\n",
       "      <td>5499</td>\n",
       "      <td>1010</td>\n",
       "      <td>-920.83</td>\n",
       "      <td>NaN</td>\n",
       "    </tr>\n",
       "    <tr>\n",
       "      <th>...</th>\n",
       "      <td>...</td>\n",
       "      <td>...</td>\n",
       "      <td>...</td>\n",
       "      <td>...</td>\n",
       "      <td>...</td>\n",
       "      <td>...</td>\n",
       "    </tr>\n",
       "    <tr>\n",
       "      <th>1048570</th>\n",
       "      <td>58627203</td>\n",
       "      <td>411 09:47:34</td>\n",
       "      <td>4814</td>\n",
       "      <td>1030</td>\n",
       "      <td>-2245.92</td>\n",
       "      <td>888923</td>\n",
       "    </tr>\n",
       "    <tr>\n",
       "      <th>1048571</th>\n",
       "      <td>58627203</td>\n",
       "      <td>411 09:57:25</td>\n",
       "      <td>5411</td>\n",
       "      <td>1110</td>\n",
       "      <td>-7939.31</td>\n",
       "      <td>77105690</td>\n",
       "    </tr>\n",
       "    <tr>\n",
       "      <th>1048572</th>\n",
       "      <td>58627203</td>\n",
       "      <td>411 12:58:51</td>\n",
       "      <td>5331</td>\n",
       "      <td>1010</td>\n",
       "      <td>-1572.14</td>\n",
       "      <td>10117432</td>\n",
       "    </tr>\n",
       "    <tr>\n",
       "      <th>1048573</th>\n",
       "      <td>58627203</td>\n",
       "      <td>412 08:46:42</td>\n",
       "      <td>5441</td>\n",
       "      <td>1110</td>\n",
       "      <td>-2043.78</td>\n",
       "      <td>34615</td>\n",
       "    </tr>\n",
       "    <tr>\n",
       "      <th>1048574</th>\n",
       "      <td>58627203</td>\n",
       "      <td>412 13:13:58</td>\n",
       "      <td>5943</td>\n",
       "      <td>1110</td>\n",
       "      <td>-2728.79</td>\n",
       "      <td>31973</td>\n",
       "    </tr>\n",
       "  </tbody>\n",
       "</table>\n",
       "<p>1048575 rows × 6 columns</p>\n",
       "</div>"
      ],
      "text/plain": [
       "         customer_id   tr_datetime  mcc_code  tr_type    amount   term_id\n",
       "0           39026145    0 10:23:26      4814     1030  -2245.92       NaN\n",
       "1           39026145    1 10:19:29      6011     7010  56147.89       NaN\n",
       "2           39026145    1 10:20:56      4829     2330 -56147.89       NaN\n",
       "3           39026145    1 10:39:54      5499     1010  -1392.47       NaN\n",
       "4           39026145    2 15:33:42      5499     1010   -920.83       NaN\n",
       "...              ...           ...       ...      ...       ...       ...\n",
       "1048570     58627203  411 09:47:34      4814     1030  -2245.92    888923\n",
       "1048571     58627203  411 09:57:25      5411     1110  -7939.31  77105690\n",
       "1048572     58627203  411 12:58:51      5331     1010  -1572.14  10117432\n",
       "1048573     58627203  412 08:46:42      5441     1110  -2043.78     34615\n",
       "1048574     58627203  412 13:13:58      5943     1110  -2728.79     31973\n",
       "\n",
       "[1048575 rows x 6 columns]"
      ]
     },
     "execution_count": 5,
     "metadata": {},
     "output_type": "execute_result"
    }
   ],
   "source": [
    "#1.\n",
    "df1 = pd.read_csv(\"data/transactions.csv\", sep=',')\n",
    "df1.set_index('customer_id')\n",
    "df1"
   ]
  },
  {
   "cell_type": "code",
   "execution_count": 7,
   "metadata": {
    "ExecuteTime": {
     "end_time": "2020-04-23T10:20:53.265495Z",
     "start_time": "2020-04-23T10:20:53.263208Z"
    },
    "id": "fBsreOprBTzh",
    "scrolled": true
   },
   "outputs": [
    {
     "data": {
      "text/plain": [
       "145984525.17"
      ]
     },
     "execution_count": 7,
     "metadata": {},
     "output_type": "execute_result"
    }
   ],
   "source": [
    "#2.\n",
    "max = df1['amount'].max()\n",
    "max"
   ]
  },
  {
   "cell_type": "markdown",
   "metadata": {
    "id": "NJL_kQe8BTzi"
   },
   "source": [
    "#### **Задание 7.**\n",
    "Соедините transactions с всеми остальными таблицами (tr_mcc_codes, tr_types, gender_train). Причём с customers_gender_train необходимо смёрджиться с помощью left join, а с оставшимися датафреймами - через inner.\n",
    " \n",
    "В результате соединения датафреймов должно получиться 999584 строки."
   ]
  },
  {
   "cell_type": "code",
   "execution_count": null,
   "metadata": {
    "ExecuteTime": {
     "end_time": "2020-04-23T10:21:36.645933Z",
     "start_time": "2020-04-23T10:21:36.643612Z"
    },
    "id": "gnzpEX6TBTzj",
    "scrolled": true
   },
   "outputs": [],
   "source": [
    "### Выполнение задания\n",
    "s1 = pd.read_csv(\"data/transactions.csv\", sep=',') \n",
    "s2 = pd.read_csv('data/tr_mcc_codes.csv', sep=';') \n",
    "s3 = pd.read_csv('data/tr_types.csv', sep=';') \n",
    "s4 = pd.read_csv('data/gender_train.csv', sep=',') \n",
    " \n",
    "s = pd.merge(s1, s4, how='left') \n",
    "s = pd.merge(s, s2, how='inner') \n",
    "s = pd.merge(s, s3, how='inner') \n",
    "print(len(s))"
   ]
  },
  {
   "cell_type": "markdown",
   "metadata": {
    "id": "9Yz_68kR_GpW"
   },
   "source": [
    "#### **Задание 8**\n",
    "Определите модуль разницы между средними тратами женщин и мужчин (трата - отрицательное значение amount). (*)\n",
    "\n",
    "Выведите ответ в виде вещественного числа, округлённого до двух знаков после запятой, отделив дробную часть точкой в формате \"123.45\"\n",
    "\n",
    "##### Пояснения:\n",
    "(*) Если в результате для мужчин получились значения [-1,-3,-5], а для женщин [-1,-2,-3], то модуль разницы между средними арифметическими -3 и -2 будет равен 1."
   ]
  },
  {
   "cell_type": "code",
   "execution_count": 9,
   "metadata": {
    "id": "tLdmHGru_2KL"
   },
   "outputs": [
    {
     "data": {
      "text/plain": [
       "gender\n",
       "0            NaN\n",
       "1    2711.203527\n",
       "Name: amount, dtype: float64"
      ]
     },
     "execution_count": 9,
     "metadata": {},
     "output_type": "execute_result"
    }
   ],
   "source": [
    "### Выполнение задания\n",
    "df = pd.merge(pd.read_csv(\"data/transactions.csv\", sep=','),pd.read_csv(\"data/gender_train.csv\", sep=','))\n",
    "res = df.groupby(\"gender\")[\"amount\"].mean().diff().abs()\n",
    "res"
   ]
  },
  {
   "cell_type": "markdown",
   "metadata": {
    "id": "cZsYehf-_76M"
   },
   "source": [
    "#### **Задание 9**\n",
    "\n",
    "1. Создайте новый столбец - mcc_code+tr_type, сконкатенировав значения из соответствующих столбцов. (*)\n",
    "2. Оставьте только наблюдения с отрицательным значением amount.\n",
    "\n",
    "##### Пояснения:\n",
    "(*) Для конкатенации значений в столбцах можно использовать метод .astype(str) для серии и складывать соответствующие серии. \n",
    "Либо же применять apply к строкам датафрейма, прописывая логику преобразования и конкатенации значений внутри."
   ]
  },
  {
   "cell_type": "code",
   "execution_count": null,
   "metadata": {
    "id": "qWi1GbEPAOub"
   },
   "outputs": [],
   "source": [
    "### Выполнение задания\n",
    "s = pd.read_csv('data/transactions.csv', sep=',') \n",
    "s[\"mcc_code+tr_type\"] = s[\"mcc_code\"].astype(str) + s[\"tr_type\"].astype(str) \n",
    "s = s[['mcc_code+tr_type', 'amount']][s.amount < 0] \n",
    "s"
   ]
  }
 ],
 "metadata": {
  "colab": {
   "collapsed_sections": [],
   "provenance": []
  },
  "hide_input": false,
  "kernelspec": {
   "display_name": "Python 3.10.6 64-bit",
   "language": "python",
   "name": "python3"
  },
  "language_info": {
   "codemirror_mode": {
    "name": "ipython",
    "version": 3
   },
   "file_extension": ".py",
   "mimetype": "text/x-python",
   "name": "python",
   "nbconvert_exporter": "python",
   "pygments_lexer": "ipython3",
   "version": "3.10.6"
  },
  "toc": {
   "base_numbering": 1,
   "nav_menu": {},
   "number_sections": true,
   "sideBar": true,
   "skip_h1_title": false,
   "title_cell": "Table of Contents",
   "title_sidebar": "Contents",
   "toc_cell": true,
   "toc_position": {},
   "toc_section_display": true,
   "toc_window_display": false
  },
  "varInspector": {
   "cols": {
    "lenName": 16,
    "lenType": 16,
    "lenVar": 40
   },
   "kernels_config": {
    "python": {
     "delete_cmd_postfix": "",
     "delete_cmd_prefix": "del ",
     "library": "var_list.py",
     "varRefreshCmd": "print(var_dic_list())"
    },
    "r": {
     "delete_cmd_postfix": ") ",
     "delete_cmd_prefix": "rm(",
     "library": "var_list.r",
     "varRefreshCmd": "cat(var_dic_list()) "
    }
   },
   "types_to_exclude": [
    "module",
    "function",
    "builtin_function_or_method",
    "instance",
    "_Feature"
   ],
   "window_display": false
  },
  "vscode": {
   "interpreter": {
    "hash": "916dbcbb3f70747c44a77c7bcd40155683ae19c65e1c03b4aa3499c5328201f1"
   }
  }
 },
 "nbformat": 4,
 "nbformat_minor": 1
}
