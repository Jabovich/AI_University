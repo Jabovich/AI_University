{
 "cells": [
  {
   "cell_type": "markdown",
   "metadata": {
    "id": "6F26DteiGs3a"
   },
   "source": [
    "**OpenCV** (Open Source Computer Vision Library) — это библиотека компьютерного зрения с открытым исходным кодом.\n",
    "\n",
    "> OpenCV разработана под языки программирования C++, Python, Java и поддерживает операционные системы Windows, Linux, Mac OS, iOS и Android. Библиотека OpenCV предназначена для создания приложений, выполняю\u0002щих большие объемы вычислений в реальном времени. \n",
    "Практическое применение OpenCV — это создание различных систем, использующих в своей работе функции компьютерного зрения. Системы с компьютерным зрением особое значение имеют в робототехнике\n",
    "\n",
    "Для более подробной информации https://opencv.org/releases/\n"
   ]
  },
  {
   "cell_type": "code",
   "execution_count": null,
   "metadata": {
    "colab": {
     "base_uri": "https://localhost:8080/"
    },
    "id": "mw7VnS-cGhge",
    "outputId": "27fca176-7a13-4b43-9cce-bab4666270d0"
   },
   "outputs": [
    {
     "name": "stdout",
     "output_type": "stream",
     "text": [
      "Looking in indexes: https://pypi.org/simple, https://us-python.pkg.dev/colab-wheels/public/simple/\n",
      "Requirement already satisfied: opencv-python in /usr/local/lib/python3.8/dist-packages (4.6.0.66)\n",
      "Requirement already satisfied: numpy>=1.17.3 in /usr/local/lib/python3.8/dist-packages (from opencv-python) (1.21.6)\n"
     ]
    }
   ],
   "source": [
    "pip install opencv-python # установка библиотеки  OpenCV"
   ]
  },
  {
   "cell_type": "markdown",
   "metadata": {
    "id": "GpWaO2ahYyJb"
   },
   "source": [
    "Задание 1.\n",
    "1. Измените программу, задав фиксированную высоту изображе\u0002ния.\n",
    "2. Измените программу для уменьшения / увеличения изображения \n",
    "в 2 раза."
   ]
  },
  {
   "cell_type": "code",
   "execution_count": null,
   "metadata": {},
   "outputs": [],
   "source": [
    "from PIL import Image\n",
    "\n",
    "img = Image.open(\"foto/testfile.jpeg\")\n",
    "print(img.size)\n",
    "img = img.resize((1400 // 2, 900 // 2))\n",
    "img"
   ]
  },
  {
   "cell_type": "markdown",
   "metadata": {
    "id": "89uF4i3Yb7iN"
   },
   "source": [
    "Задание 2\n",
    "1. Подберите срезы так, чтобы в вырезанный фрагмент попали ав\u0002томобили или другие объекты на заднем плане вашего рисунка.\n",
    "2. Используя программу из прошлого урока, выведите на экран \n",
    "изображение вырезанного фрагмента, увеличенное в 3 раза.\n"
   ]
  },
  {
   "cell_type": "code",
   "execution_count": null,
   "metadata": {},
   "outputs": [],
   "source": [
    "from PIL import Image\n",
    "# img = Image.open(\"foto/testfile.jpeg\")\n",
    "# img2 = img.transpose(Image.FLIP_LEFT_RIGHT) #PIL.Image.FLIP_LEFT_RIGHT, PIL.Image.FLIP_TOP_BOTTOM\n",
    "# img2\n",
    "\n",
    "#2\n",
    "img = Image.open(\"foto/testfile.jpeg\")\n",
    "\n",
    "cord = (10, 10, 640, 340) # лево, верх, право, низ\n",
    "new_picture = img.crop(cord)\n",
    "new_picture"
   ]
  },
  {
   "cell_type": "markdown",
   "metadata": {
    "id": "6S8Dkjc5Pcgm"
   },
   "source": [
    "Задание 3\n",
    "1. Поверните исходное изображение на 45°, 90°, 120°.\n",
    "2. Выведите на экран уменьшенное перевернутое изображение.\n",
    "3. Вырежите произвольный фрагмент изображения и выполните \n",
    "его поворот."
   ]
  },
  {
   "cell_type": "code",
   "execution_count": null,
   "metadata": {},
   "outputs": [],
   "source": [
    "from PIL import Image\n",
    "image = Image.open('foto/testfile.jpeg')\n",
    "# rotated_img = image.rotate(45)\n",
    "# rotated_img\n",
    "new_img = image.resize((200,400))\n",
    "new_img = new_img.rotate(180)\n",
    "cord = (10, 10, 140, 150)\n",
    "new_picture = new_img.crop(cord)\n",
    "new_picture"
   ]
  },
  {
   "cell_type": "markdown",
   "metadata": {
    "id": "wDR1Ag1XRAIS"
   },
   "source": [
    "Задание 4\n",
    "1. Выполните оставшиеся способы зеркального отражения.\n",
    "2. Вырежите произвольный фрагмент изображения и выполните \n",
    "его зеркальное отражение одним из способов."
   ]
  },
  {
   "cell_type": "code",
   "execution_count": null,
   "metadata": {},
   "outputs": [],
   "source": [
    "from PIL import Image\n",
    "# img = Image.open(\"foto/testfile.jpeg\")\n",
    "# img2 = img.transpose(Image.FLIP_LEFT_RIGHT) #PIL.Image.FLIP_LEFT_RIGHT, PIL.Image.FLIP_TOP_BOTTOM\n",
    "# img2\n",
    "\n",
    "#2\n",
    "img = Image.open(\"foto/testfile.jpeg\")\n",
    "crop = img.crop((750, 500, 1350, 800))\n",
    "img2 = crop.transpose(Image.FLIP_LEFT_RIGHT)\n",
    "img2\n",
    "img2.save(\"foto/ex5.jpeg\")"
   ]
  },
  {
   "cell_type": "markdown",
   "metadata": {
    "id": "3yIRnfRuTcpt"
   },
   "source": [
    "Задание 5\n",
    "1. Сохраните фрагмент изображения (см. раздел «Вырезка фраг\u0002мента изображения») в файл формата .jpg.\n",
    "2. Сохраните одно из преобразованных изображений (см. раздел \n",
    "«Поворот изображения») в файл формата .png"
   ]
  },
  {
   "cell_type": "markdown",
   "metadata": {
    "id": "QUm4OMYCdBng"
   },
   "source": [
    "Задание 6\n",
    "1. Загрузите произвольное изображение с дорожными знаками \n",
    "и подберите параметры low_color, high_color для выделения одного из знаков или каких-либо ярких объектов. Возьмите файл с названием dorZnak1.jpg\n",
    "2. Подберите и запишите параметры low_color, high_color\n",
    "для различных дорожных знаков, ярких объектов из различных \n",
    "изображений. Выполните вывод на экран"
   ]
  },
  {
   "cell_type": "markdown",
   "metadata": {
    "id": "WbQIjVF1lzvv"
   },
   "source": [
    "ЗАДАНИЕ 7\n",
    "1. Загрузите изображения с дорожными знаками из предыдущего \n",
    "задания и подберите параметры color_low, color_high для \n",
    "выделения одного из знаков или каких-либо ярких объектов."
   ]
  },
  {
   "cell_type": "markdown",
   "metadata": {
    "id": "2SVTb8_-_Of_"
   },
   "source": [
    "Задание 8\n",
    "1. Измените размер отображаемого кадра, используя функцию \n",
    "cv2.resize().\n",
    "2. Выполните зеркальное отражение кадра с помощью функции \n",
    "cv2.fl ip().\n"
   ]
  },
  {
   "cell_type": "markdown",
   "metadata": {
    "id": "ExK_Gyv73Xtf"
   },
   "source": [
    "ЗАДАНИЕ 8\n",
    "\n",
    "Подберите границы цветовых диапазонов для поиска объектов \n",
    "других цветов (красный, желтый, зеленый и т. д.) на видео."
   ]
  },
  {
   "cell_type": "markdown",
   "metadata": {
    "id": "h4UDAwjI_Uhm"
   },
   "source": [
    "Задание 9\n",
    "1. Меняя в функции cv2.drawContours() параметры\n",
    "contoursIdx, color, thickness (3, 4 и 5-й аргументы \n",
    "по счету соответственно), выведите на экран по отдельности \n",
    "внешний и внутренний контуры, измените цвет контура и тол\u0002щину линий контура.\n",
    "2. Подготовьте с помощью редактора Paint изображение с несколькими объектами, окрашивая их в различные цвета. Подбирая \n",
    "параметры цветового фильтра, выведите на экран поочередно \n",
    "все контуры каждого объекта."
   ]
  },
  {
   "cell_type": "markdown",
   "metadata": {
    "id": "Yj4Bs0tjRoer"
   },
   "source": [
    "ЗАДАНИЕ 10\n",
    "1. Используя этот же рисунок, выполните фильтрацию контуров \n",
    "объектов желтого цвета и выведите в окне контур самого боль\u0002шого объекта.\n",
    "2. Применяя наложение суммы масок, выделите из рисунка кон\u0002туры объектов различных цветов, например красных и желтых \n",
    "объектов с отсевом мелких контуров и т. д"
   ]
  },
  {
   "cell_type": "markdown",
   "metadata": {
    "id": "l7qWDN5QJHlH"
   },
   "source": [
    "Задание 11\n",
    "\n",
    "В программе более верно подобрать значения цветов для определения дорожных знаков и обвести их контуром."
   ]
  }
 ],
 "metadata": {
  "colab": {
   "provenance": []
  },
  "kernelspec": {
   "display_name": "Python 3 (ipykernel)",
   "language": "python",
   "name": "python3"
  },
  "language_info": {
   "codemirror_mode": {
    "name": "ipython",
    "version": 3
   },
   "file_extension": ".py",
   "mimetype": "text/x-python",
   "name": "python",
   "nbconvert_exporter": "python",
   "pygments_lexer": "ipython3",
   "version": "3.9.13"
  }
 },
 "nbformat": 4,
 "nbformat_minor": 1
}
